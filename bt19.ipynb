{
 "cells": [
  {
   "cell_type": "code",
   "execution_count": 7,
   "id": "8b25105b-bd30-42c3-892d-ffc1bcb9c6c2",
   "metadata": {},
   "outputs": [
    {
     "name": "stdout",
     "output_type": "stream",
     "text": [
      "Requirement already satisfied: opencv-python in d:\\nghia\\thigiacmaytinh\\lib\\site-packages (4.10.0.84)\n",
      "Requirement already satisfied: numpy>=1.21.2 in d:\\nghia\\thigiacmaytinh\\lib\\site-packages (from opencv-python) (1.26.4)\n"
     ]
    }
   ],
   "source": [
    "# Cài đặt opencv-python\n",
    "!pip install opencv-python"
   ]
  },
  {
   "cell_type": "code",
   "execution_count": 9,
   "id": "f4da2e00-193a-40f0-93f5-c4cf01c755f6",
   "metadata": {},
   "outputs": [],
   "source": [
    "def display(title, img):\n",
    "    cv2.imshow(title, img)\n",
    "    # Chờ một khoảng thời gian\n",
    "    cv2.waitKey(0)\n",
    "    # Đóng window\n",
    "    cv2.destroyWindow(title)"
   ]
  },
  {
   "cell_type": "code",
   "execution_count": 11,
   "id": "11470203-a930-4722-a53d-0fec23e887a3",
   "metadata": {},
   "outputs": [],
   "source": [
    "# Import thư viện\n",
    "import cv2"
   ]
  },
  {
   "cell_type": "code",
   "execution_count": 21,
   "id": "a8b86956-2225-4010-8c11-593662c6e9e9",
   "metadata": {},
   "outputs": [
    {
     "name": "stdout",
     "output_type": "stream",
     "text": [
      "[[[ 63 196 140]\n",
      "  [ 63 196 140]\n",
      "  [ 63 196 140]\n",
      "  ...\n",
      "  [ 63 196 140]\n",
      "  [ 63 196 140]\n",
      "  [ 63 196 140]]\n",
      "\n",
      " [[ 63 196 140]\n",
      "  [ 63 196 140]\n",
      "  [ 63 196 140]\n",
      "  ...\n",
      "  [ 63 196 140]\n",
      "  [ 63 196 140]\n",
      "  [ 63 196 140]]\n",
      "\n",
      " [[ 63 196 140]\n",
      "  [ 63 196 140]\n",
      "  [ 63 196 140]\n",
      "  ...\n",
      "  [ 63 196 140]\n",
      "  [ 63 196 140]\n",
      "  [ 63 196 140]]\n",
      "\n",
      " ...\n",
      "\n",
      " [[107 107 107]\n",
      "  [255 255 255]\n",
      "  [253 253 253]\n",
      "  ...\n",
      "  [255 255 255]\n",
      "  [255 255 255]\n",
      "  [255 255 255]]\n",
      "\n",
      " [[107 107 107]\n",
      "  [255 255 255]\n",
      "  [253 253 253]\n",
      "  ...\n",
      "  [255 255 255]\n",
      "  [255 255 255]\n",
      "  [255 255 255]]\n",
      "\n",
      " [[107 107 107]\n",
      "  [255 255 255]\n",
      "  [253 253 253]\n",
      "  ...\n",
      "  [255 255 255]\n",
      "  [255 255 255]\n",
      "  [255 255 255]]]\n"
     ]
    }
   ],
   "source": [
    "# Đọc một ảnh (nhan TAB de nhin autocomplete)\n",
    "path= 'C:/Users/animals.jpg'\n",
    "img = cv2.imread(path)\n",
    "# In thông tin của ảnh\n",
    "print(img)"
   ]
  },
  {
   "cell_type": "code",
   "execution_count": 23,
   "id": "cfccc6e0-3e8f-40d8-8770-316b352a7c90",
   "metadata": {},
   "outputs": [
    {
     "name": "stdout",
     "output_type": "stream",
     "text": [
      "(196, 257, 3)\n",
      "196\n",
      "257\n",
      "3\n"
     ]
    }
   ],
   "source": [
    "# Lấy kích thước\n",
    "print(img.shape)\n",
    "x, y, z = img.shape\n",
    "print(x)\n",
    "print(y)\n",
    "print(z)"
   ]
  },
  {
   "cell_type": "code",
   "execution_count": 25,
   "id": "24958276-5ac1-4634-b457-2eb14a34f5ef",
   "metadata": {},
   "outputs": [],
   "source": [
    "# Hiển thị ảnh\n",
    "cv2.imshow('Window', img)\n",
    "# Chờ một khoảng thời gian\n",
    "cv2.waitKey(10000)\n",
    "# Đóng window\n",
    "cv2.destroyWindow('Window')"
   ]
  },
  {
   "cell_type": "code",
   "execution_count": 27,
   "id": "b2d538d5-a2f8-45b4-ab96-d78171949a1f",
   "metadata": {},
   "outputs": [],
   "source": [
    "# Tách màu\n",
    "b, g, r = cv2.split(img)\n",
    "cv2.imshow('Window', img)\n",
    "cv2.imshow('Red', r)\n",
    "cv2.imshow('Green', g)\n",
    "cv2.imshow('Blue', b)\n",
    "\n",
    "# Chờ một khoảng thời gian\n",
    "cv2.waitKey(0)\n",
    "# Đóng window\n",
    "cv2.destroyAllWindows()"
   ]
  },
  {
   "cell_type": "code",
   "execution_count": 28,
   "id": "2c1ed68b-1bed-43d4-af74-12a00bc8860b",
   "metadata": {},
   "outputs": [],
   "source": [
    "gray_img = cv2.cvtColor(img, cv2.COLOR_BGR2GRAY)\n",
    "img_2 = cv2.cvtColor(img, cv2.COLOR_BGR2RGB)\n",
    "cv2.imshow('Window', img)\n",
    "cv2.imshow('gray_img', gray_img)\n",
    "cv2.imshow('img_2', img_2)\n",
    "# Chờ một khoảng thời gian\n",
    "cv2.waitKey(0)\n",
    "# Đóng window\n",
    "cv2.destroyAllWindows()"
   ]
  },
  {
   "cell_type": "code",
   "execution_count": null,
   "id": "0e662b5d-af64-4857-881f-157b65994041",
   "metadata": {},
   "outputs": [],
   "source": [
    "# Thay đổi thông số của điểm ảnh\n",
    "height, width, z = img.shape\n",
    "quater_h = height/2\n",
    "quater_w = width/2\n",
    "\n",
    "# geen color\n",
    "green_color = (0,255,0)\n",
    "\n",
    "# copy ảnh\n",
    "img2 = img.copy()\n",
    "\n",
    "# thay đổi màu của góc 1/4 bên trái trên\n",
    "\n",
    "for y in range(int(quater_h)):\n",
    "    for x in range(int(quater_w)):\n",
    "        img2[y, x] = green_color\n",
    "# Hiển thị\n",
    "#display('Window', img)\n",
    "display('Window-2', img2)"
   ]
  },
  {
   "cell_type": "code",
   "execution_count": null,
   "id": "bc07aa5b-7721-422c-a5a7-358585dabb37",
   "metadata": {},
   "outputs": [],
   "source": []
  }
 ],
 "metadata": {
  "kernelspec": {
   "display_name": "Python 3 (ipykernel)",
   "language": "python",
   "name": "python3"
  },
  "language_info": {
   "codemirror_mode": {
    "name": "ipython",
    "version": 3
   },
   "file_extension": ".py",
   "mimetype": "text/x-python",
   "name": "python",
   "nbconvert_exporter": "python",
   "pygments_lexer": "ipython3",
   "version": "3.12.4"
  }
 },
 "nbformat": 4,
 "nbformat_minor": 5
}
