{
 "cells": [
  {
   "cell_type": "code",
   "execution_count": 3,
   "id": "16b4c40b-269d-43e0-bb68-286d17aec585",
   "metadata": {},
   "outputs": [],
   "source": [
    "import cv2"
   ]
  },
  {
   "cell_type": "code",
   "execution_count": 5,
   "id": "cdfee973-9b17-439e-886d-99d775795974",
   "metadata": {},
   "outputs": [],
   "source": [
    "my_video = cv2.VideoCapture('Videos/test.mp4')"
   ]
  },
  {
   "cell_type": "code",
   "execution_count": 7,
   "id": "ecb987a7-898c-4e57-9471-027239b1c116",
   "metadata": {},
   "outputs": [],
   "source": [
    "# Tạo cửa sổ để hiển thị\n",
    "cv2.namedWindow('Video player', cv2.WINDOW_NORMAL)"
   ]
  },
  {
   "cell_type": "code",
   "execution_count": 9,
   "id": "c8e4d492-2283-4939-88fd-7c7b33a9f4ff",
   "metadata": {},
   "outputs": [],
   "source": [
    "# Hiển thị từng khung ảnh\n",
    "while True:\n",
    "    # Đọc 1 frame\n",
    "    ret, frame = my_video.read()\n",
    "    \n",
    "    # Thoát khi không thể đọc được frame\n",
    "    if not ret:\n",
    "        break\n",
    "    \n",
    "    # Hiển thị\n",
    "    cv2.imshow('Video Player', frame)\n",
    "    \n",
    "    if(cv2.waitKey(10)==ord('q')):\n",
    "        break"
   ]
  },
  {
   "cell_type": "code",
   "execution_count": 11,
   "id": "884dc28b-a174-4e86-91c4-459171bbf25e",
   "metadata": {},
   "outputs": [],
   "source": [
    "# Hủy bỏ player\n",
    "my_video.release\n",
    "cv2.destroyAllWindows()"
   ]
  }
 ],
 "metadata": {
  "kernelspec": {
   "display_name": "Python 3 (ipykernel)",
   "language": "python",
   "name": "python3"
  },
  "language_info": {
   "codemirror_mode": {
    "name": "ipython",
    "version": 3
   },
   "file_extension": ".py",
   "mimetype": "text/x-python",
   "name": "python",
   "nbconvert_exporter": "python",
   "pygments_lexer": "ipython3",
   "version": "3.12.4"
  }
 },
 "nbformat": 4,
 "nbformat_minor": 5
}
