{
 "cells": [
  {
   "cell_type": "code",
   "execution_count": 2,
   "id": "62cccfc4-dd02-4159-bdbb-5a41d4b5f18c",
   "metadata": {},
   "outputs": [],
   "source": [
    "import cv2\n",
    "import numpy as np"
   ]
  },
  {
   "cell_type": "code",
   "execution_count": 4,
   "id": "f2b34fd5-8649-4e4f-a14d-5787531e182c",
   "metadata": {},
   "outputs": [],
   "source": [
    "def display(title, img):\n",
    "    cv2.imshow(title, img)\n",
    "    # Chờ một khoảng thời gian\n",
    "    cv2.waitKey(0)\n",
    "    # Đóng window\n",
    "    cv2.destroyWindow(title)"
   ]
  },
  {
   "cell_type": "code",
   "execution_count": 80,
   "id": "42aad301-1de5-4ece-a378-477dae986ac4",
   "metadata": {},
   "outputs": [],
   "source": [
    "# Tạo một ảnh\n",
    "img = np.zeros((400, 400, 3), dtype=np.uint8)\n",
    "display('Image', img)"
   ]
  },
  {
   "cell_type": "code",
   "execution_count": 82,
   "id": "a42cdfb4-4615-45c5-9a50-f618180c22c4",
   "metadata": {},
   "outputs": [],
   "source": [
    "# Vẽ một đường thẳng\n",
    "cv2.line(img, (50, 50), (350, 50), (0,0,255), 2)\n",
    "display('Image', img)"
   ]
  },
  {
   "cell_type": "code",
   "execution_count": 84,
   "id": "29629701-69ba-4665-9789-b0f1aca58bbe",
   "metadata": {},
   "outputs": [],
   "source": [
    "# Vẽ một hình trong\n",
    "cv2.circle(img, (100, 100), 50, (0, 255, 0), -1)\n",
    "display('Image', img)"
   ]
  },
  {
   "cell_type": "code",
   "execution_count": 98,
   "id": "ffe8e767-2603-4672-b23a-db6de478434f",
   "metadata": {},
   "outputs": [],
   "source": [
    "# Vẽ một hình trong\n",
    "cv2.rectangle(img, (100, 100), (300, 300), (255, 0, 0), 2)\n",
    "display('Image', img)"
   ]
  },
  {
   "cell_type": "code",
   "execution_count": 100,
   "id": "c894d049-c32c-47e7-9dc9-734d7f583e7c",
   "metadata": {},
   "outputs": [],
   "source": [
    "# Ghi text trên hình ảnh\n",
    "content = 'Nguyen Trung Nghia'\n",
    "font = cv2.FONT_HERSHEY_SIMPLEX\n",
    "cv2.putText(img, content, (10, 350), font, 0.6, (255, 255, 255), 2)\n",
    "display('Image', img)"
   ]
  },
  {
   "cell_type": "code",
   "execution_count": null,
   "id": "994e9293-000c-4bc6-b6b3-a61cf147dddb",
   "metadata": {},
   "outputs": [],
   "source": []
  }
 ],
 "metadata": {
  "kernelspec": {
   "display_name": "Python 3 (ipykernel)",
   "language": "python",
   "name": "python3"
  },
  "language_info": {
   "codemirror_mode": {
    "name": "ipython",
    "version": 3
   },
   "file_extension": ".py",
   "mimetype": "text/x-python",
   "name": "python",
   "nbconvert_exporter": "python",
   "pygments_lexer": "ipython3",
   "version": "3.12.4"
  }
 },
 "nbformat": 4,
 "nbformat_minor": 5
}
