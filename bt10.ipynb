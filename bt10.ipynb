{
 "cells": [
  {
   "cell_type": "code",
   "execution_count": 13,
   "id": "6ce26d56-e1c9-49a3-a2ec-15d805048ee0",
   "metadata": {},
   "outputs": [],
   "source": [
    "from PIL import Image\n",
    "import matplotlib.pyplot as plt"
   ]
  },
  {
   "cell_type": "code",
   "execution_count": 15,
   "id": "cb64c5b0-3a17-413b-8a44-55e6f9c43509",
   "metadata": {},
   "outputs": [],
   "source": [
    "# Đường dẫn ảnh\n",
    "my_path = 'C:/Users/sgb-msi.jpg'"
   ]
  },
  {
   "cell_type": "code",
   "execution_count": 22,
   "id": "9f973444-f1a5-4315-ae7c-4f61ad4bdf9f",
   "metadata": {},
   "outputs": [
    {
     "name": "stdout",
     "output_type": "stream",
     "text": [
      "[(473.8506493506494, 411.9999999999998), (196.2532467532468, 511.8376623376621), (128.0714285714286, 270.76623376623354), (580.9935064935066, 492.35714285714266), (595.6038961038962, 299.9870129870128)]\n"
     ]
    }
   ],
   "source": [
    "# Đọc ảnh\n",
    "im = Image.open(my_path)\n",
    "\n",
    "# Chuyển đổi backend\n",
    "plt.switch_backend(\"tkagg\")\n",
    "\n",
    "# Hiển thị ảnh\n",
    "plt.imshow(im)\n",
    "plt.title(\"Click on the image to select points\")\n",
    "\n",
    "# Sử dụng hàm ginput() để chọn điểm trên ảnh\n",
    "points = plt.ginput(5)\n",
    "\n",
    "print(points)\n",
    "\n",
    "#Hiển thị\n",
    "plt.show()"
   ]
  },
  {
   "cell_type": "code",
   "execution_count": null,
   "id": "15825842-7c5a-4e29-a896-861eadd5c801",
   "metadata": {},
   "outputs": [],
   "source": [
    "# Vẽ lại các điểm đã chọn bằng dấu * màu đỏ\n",
    "plt.close()\n",
    "\n",
    "#Vẽ lại\n",
    "plt.imshow(im)\n",
    "for point in points:\n",
    "    x, y = point\n",
    "    plt.plot(x,y, 'r*')\n",
    "\n",
    "plt.show()"
   ]
  }
 ],
 "metadata": {
  "kernelspec": {
   "display_name": "Python 3 (ipykernel)",
   "language": "python",
   "name": "python3"
  },
  "language_info": {
   "codemirror_mode": {
    "name": "ipython",
    "version": 3
   },
   "file_extension": ".py",
   "mimetype": "text/x-python",
   "name": "python",
   "nbconvert_exporter": "python",
   "pygments_lexer": "ipython3",
   "version": "3.12.4"
  }
 },
 "nbformat": 4,
 "nbformat_minor": 5
}
